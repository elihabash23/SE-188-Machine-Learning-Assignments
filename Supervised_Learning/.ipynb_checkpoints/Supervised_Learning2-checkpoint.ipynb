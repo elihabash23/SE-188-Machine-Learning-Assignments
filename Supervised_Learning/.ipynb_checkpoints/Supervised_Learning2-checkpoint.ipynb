{
 "cells": [
  {
   "cell_type": "code",
   "execution_count": 38,
   "metadata": {},
   "outputs": [],
   "source": [
    "import numpy as np\n",
    "import scipy as sp\n",
    "import pandas as pd\n",
    "\n",
    "from sklearn.preprocessing import Imputer\n",
    "from sklearn import datasets\n",
    "from sklearn import tree\n",
    "\n",
    "train_data = pd.read_csv('train.csv', index_col=0, header=1)\n",
    "train_X = train_data.drop('default payment next month', axis=1)\n",
    "train_Y = train_data['default payment next month']\n",
    "\n",
    "testing_X = pd.read_csv('test.csv', index_col=0, header=1)"
   ]
  },
  {
   "cell_type": "code",
   "execution_count": 3,
   "metadata": {},
   "outputs": [],
   "source": [
    "dt = tree.DecisionTreeClassifier(max_depth= None)"
   ]
  },
  {
   "cell_type": "code",
   "execution_count": 30,
   "metadata": {},
   "outputs": [
    {
     "data": {
      "text/plain": [
       "array([1, 0, 0, ..., 1, 1, 1])"
      ]
     },
     "execution_count": 30,
     "metadata": {},
     "output_type": "execute_result"
    }
   ],
   "source": [
    "dt.fit(train_X, train_Y)\n",
    "predict = dt.predict(testing_X)\n",
    "predict"
   ]
  },
  {
   "cell_type": "code",
   "execution_count": 83,
   "metadata": {},
   "outputs": [],
   "source": [
    "solutionList = {'Default payment next month': list(predict),\n",
    "              'ID': list(range(21001,30001))}"
   ]
  },
  {
   "cell_type": "code",
   "execution_count": 91,
   "metadata": {},
   "outputs": [],
   "source": [
    "solutionDF = pd.DataFrame(solutionList)\n",
    "solutionDF = solutionDF[['ID', 'Default payment next month']]# Switch the order of the columns\n",
    "solutionDF = solutionDF.set_index('ID')\n",
    "solutionDF.to_csv('solution.csv')"
   ]
  }
 ],
 "metadata": {
  "kernelspec": {
   "display_name": "Python 3",
   "language": "python",
   "name": "python3"
  },
  "language_info": {
   "codemirror_mode": {
    "name": "ipython",
    "version": 3
   },
   "file_extension": ".py",
   "mimetype": "text/x-python",
   "name": "python",
   "nbconvert_exporter": "python",
   "pygments_lexer": "ipython3",
   "version": "3.6.4"
  }
 },
 "nbformat": 4,
 "nbformat_minor": 2
}
